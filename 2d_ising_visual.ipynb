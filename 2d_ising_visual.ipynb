{
 "cells": [
  {
   "cell_type": "code",
   "execution_count": null,
   "id": "48ccf940",
   "metadata": {},
   "outputs": [],
   "source": [
    "# This is the plot file for configuration animation\n",
    "#  file: 2d_ising_visual.ipynb\n",
    "# \n",
    "#  Program takes the output data to animate to get an visualization of configuration change over time\n",
    "#\n",
    "#  Programmers:  Youwei Liu            liu.9639@osu.edu\n",
    "#\n",
    "#  Revision history:\n",
    "#     30-Apr-2023  original version "
   ]
  },
  {
   "cell_type": "code",
   "execution_count": 3,
   "id": "25b4ee31",
   "metadata": {},
   "outputs": [],
   "source": [
    "import numpy as np\n",
    "import matplotlib.pyplot as plt\n",
    "import matplotlib.animation as animation\n",
    "from IPython.display import HTML\n",
    "\n",
    "# Read the data from the file\n",
    "with open('Disorder_with_C=0.005_test.dat', 'r') as f:\n",
    "    data = f.read()\n",
    "\n",
    "# Split the data into individual spin configurations\n",
    "\n",
    "configs = data.strip().split('\\n\\n')[1:]\n",
    "frame_rows = [frame.split('\\n') for frame in configs]\n",
    "\n",
    "spin_config=np.zeros((len(configs),len(frame_rows[0]),len(frame_rows[0])))\n",
    "for i in range(len(frame_rows)):\n",
    "    frame_rows[i] = [rows.split(' ') for rows in frame_rows[i]]\n",
    "    for j in range(len(frame_rows[i])):\n",
    "        spin_config[i][j]=np.array([int(element) for element in frame_rows[i][j] if element!=''])\n",
    "\n",
    "# Define the colors for each spin value\n",
    "colors = {-1: 'blue', 0: 'black', 1: 'yellow'}\n"
   ]
  },
  {
   "attachments": {},
   "cell_type": "markdown",
   "id": "5fa0a193",
   "metadata": {},
   "source": [
    "The above code take the data from the .dat file and read the file into the 3-dimensional matrix spin_config, spin_config[i] indicate the frame(at any given flip number, what's the configuration), spin_config[i][j][k], j k indicate the row and cols respectively"
   ]
  },
  {
   "attachments": {},
   "cell_type": "markdown",
   "id": "f83b26fc",
   "metadata": {},
   "source": [
    "The below code take the matrix data and plot in into an animation,(this is time consuming, so I do not plot all of the plot)"
   ]
  },
  {
   "cell_type": "code",
   "execution_count": 4,
   "id": "c6b81b53",
   "metadata": {},
   "outputs": [
    {
     "data": {
      "image/png": "[encoded data removed]",
      "text/plain": [
       "<Figure size 640x480 with 1 Axes>"
      ]
     },
     "metadata": {},
     "output_type": "display_data"
    }
   ],
   "source": [
    "# Define a function to update the plot for each frame of the animation\n",
    "def update(frame):\n",
    "    # Clear the previous plot\n",
    "    plt.clf()\n",
    "    # Set the title\n",
    "    plt.title('Spin configuration {}'.format(frame+1))\n",
    "    # Get the spin configuration for the current frame\n",
    "    spin_frame = spin_config[frame]\n",
    "    # Create a grid of colored squares based on the spin values\n",
    "    squares = [[plt.Rectangle((i, j), 1, 1, color=colors[spin_frame[i][j]]) for j in range(spin_frame.shape[1])] for i in range(spin_frame.shape[0])]\n",
    "    # Add the squares to the plot\n",
    "    for row in squares:\n",
    "        for square in row:\n",
    "            plt.gca().add_patch(square)\n",
    "    # Set the limits of the plot\n",
    "    plt.xlim(0, spin_frame.shape[0])\n",
    "    plt.ylim(0, spin_frame.shape[1])\n",
    "\n",
    "# Create the animation object\n",
    "ani = animation.FuncAnimation(plt.gcf(), update, frames=len(configs), interval=500)\n",
    "\n",
    "# Save the animation as an mp4 file\n",
    "ani.save('Disorder_with_C=0.005_1.mp4')\n",
    "\n",
    "# Display the animation in the Jupyter notebook\n",
    "HTML(ani.to_html5_video())\n",
    "\n",
    "# Save the animation as an HTML5 video file\n",
    "with open('animation.html', 'w') as f:\n",
    "    f.write(ani.to_html5_video())\n"
   ]
  },
  {
   "cell_type": "code",
   "execution_count": null,
   "id": "05fccb28",
   "metadata": {},
   "outputs": [],
   "source": []
  }
 ],
 "metadata": {
  "kernelspec": {
   "display_name": "Python 3 (ipykernel)",
   "language": "python",
   "name": "python3"
  },
  "language_info": {
   "codemirror_mode": {
    "name": "ipython",
    "version": 3
   },
   "file_extension": ".py",
   "mimetype": "text/x-python",
   "name": "python",
   "nbconvert_exporter": "python",
   "pygments_lexer": "ipython3",
   "version": "3.9.16"
  }
 },
 "nbformat": 4,
 "nbformat_minor": 5
}
